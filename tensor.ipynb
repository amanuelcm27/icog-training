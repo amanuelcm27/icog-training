{
 "cells": [
  {
   "cell_type": "code",
   "execution_count": 2,
   "id": "290b11e7",
   "metadata": {},
   "outputs": [],
   "source": [
    "import numpy as np"
   ]
  },
  {
   "cell_type": "code",
   "execution_count": 3,
   "id": "55f08db8",
   "metadata": {},
   "outputs": [
    {
     "data": {
      "text/plain": [
       "array([[1.62254986, 1.31457501]])"
      ]
     },
     "execution_count": 3,
     "metadata": {},
     "output_type": "execute_result"
    }
   ],
   "source": [
    "A = np.random.rand(3,2)\n",
    "B = np.sum(A, axis=0, keepdims=True)\n",
    "B"
   ]
  },
  {
   "cell_type": "code",
   "execution_count": 4,
   "id": "df07a872",
   "metadata": {},
   "outputs": [],
   "source": [
    "import math\n",
    "import numpy as np\n",
    "def sigmoid(x):\n",
    "    return np.exp(x)"
   ]
  },
  {
   "cell_type": "code",
   "execution_count": 5,
   "id": "c3a76490",
   "metadata": {},
   "outputs": [
    {
     "name": "stdout",
     "output_type": "stream",
     "text": [
      "[[[2.71828183e+00 7.38905610e+00 2.00855369e+01]\n",
      "  [2.71828183e+00 2.00855369e+01 1.48413159e+02]]\n",
      "\n",
      " [[5.45981500e+01 1.48413159e+02 4.03428793e+02]\n",
      "  [2.00855369e+01 1.48413159e+02 4.03428793e+02]]\n",
      "\n",
      " [[1.09663316e+03 2.98095799e+03 8.10308393e+03]\n",
      "  [2.71828183e+00 7.38905610e+00 2.00855369e+01]]]\n"
     ]
    }
   ],
   "source": [
    "vectors = [[[1,2,3],[1,3,5]], [[4,5,6],[3,5,6]], [[7,8,9],[1,2,3]]]\n",
    "np_vectors = np.array(vectors)\n",
    "print(sigmoid(np_vectors))\n"
   ]
  },
  {
   "cell_type": "code",
   "execution_count": 6,
   "id": "6204eb57",
   "metadata": {},
   "outputs": [
    {
     "name": "stdout",
     "output_type": "stream",
     "text": [
      "0.955758927053696\n"
     ]
    }
   ],
   "source": [
    "atq  = np.random.rand()\n",
    "print(atq)"
   ]
  },
  {
   "cell_type": "code",
   "execution_count": 7,
   "id": "0c562e2c",
   "metadata": {},
   "outputs": [
    {
     "name": "stdout",
     "output_type": "stream",
     "text": [
      "(3, 2, 3)\n"
     ]
    }
   ],
   "source": [
    "print(np_vectors.shape)"
   ]
  },
  {
   "cell_type": "code",
   "execution_count": 8,
   "id": "7b7db3ea",
   "metadata": {},
   "outputs": [
    {
     "name": "stdout",
     "output_type": "stream",
     "text": [
      "[[[2.71828183e+00 7.38905610e+00 2.00855369e+01]\n",
      "  [2.71828183e+00 2.00855369e+01 1.48413159e+02]]\n",
      "\n",
      " [[5.45981500e+01 1.48413159e+02 4.03428793e+02]\n",
      "  [2.00855369e+01 1.48413159e+02 4.03428793e+02]]\n",
      "\n",
      " [[1.09663316e+03 2.98095799e+03 8.10308393e+03]\n",
      "  [2.71828183e+00 7.38905610e+00 2.00855369e+01]]]\n",
      "[[[5.43656366e+00 2.74745930e+01 1.68498696e+02]]\n",
      "\n",
      " [[7.46836870e+01 2.96826318e+02 8.06857587e+02]]\n",
      "\n",
      " [[1.09935144e+03 2.98834704e+03 8.12316946e+03]]]\n"
     ]
    }
   ],
   "source": [
    "print(np.exp(np_vectors))\n",
    "print(np.sum(np.exp(np_vectors), axis=1, keepdims=True))"
   ]
  },
  {
   "cell_type": "code",
   "execution_count": 9,
   "id": "0ea50ff4",
   "metadata": {},
   "outputs": [
    {
     "name": "stdout",
     "output_type": "stream",
     "text": [
      "[ 9 16]\n"
     ]
    }
   ],
   "source": [
    "z = [3,4]\n",
    "print(np.square(z))"
   ]
  },
  {
   "cell_type": "code",
   "execution_count": 10,
   "id": "9652a3bf",
   "metadata": {},
   "outputs": [
    {
     "data": {
      "text/plain": [
       "array([[0., 0., 0.],\n",
       "       [0., 0., 0.]])"
      ]
     },
     "execution_count": 10,
     "metadata": {},
     "output_type": "execute_result"
    }
   ],
   "source": [
    "abc  = np.zeros((2,3))\n",
    "abc"
   ]
  },
  {
   "cell_type": "code",
   "execution_count": 11,
   "id": "cff068f0",
   "metadata": {},
   "outputs": [
    {
     "name": "stdout",
     "output_type": "stream",
     "text": [
      "4 is not equal to 5\n"
     ]
    }
   ],
   "source": [
    "if (4 != 5):\n",
    "    print(\"4 is not equal to 5\")\n",
    "else:\n",
    "    print(\"4 is equal to 5\")"
   ]
  },
  {
   "cell_type": "code",
   "execution_count": 12,
   "id": "ec3e20a3",
   "metadata": {},
   "outputs": [
    {
     "name": "stdout",
     "output_type": "stream",
     "text": [
      "Found 9 at position: (2, 2, 1)\n",
      "Total count: 27\n"
     ]
    }
   ],
   "source": [
    "x = np.array([\n",
    "    [[1, 2, 4], [2, 3, 5], [2, 3, 5]],\n",
    "    [[3, 4, 5], [4, 5, 5], [2,3,5]],\n",
    "    [[6, 7, 1], [7, 8, 1], [2,9,5]]\n",
    "    ])\n",
    "count = 0\n",
    "for i in range(0,len(x)):\n",
    "    for j in range(0,len(x[i])):\n",
    "        for k in range(0,len(x[j])):\n",
    "            count += 1\n",
    "            if x[i][j][k] == 9:\n",
    "                print(\"Found 9 at position:\", (i, j, k))\n",
    "print(\"Total count:\", count)"
   ]
  },
  {
   "cell_type": "code",
   "execution_count": null,
   "id": "b4ece551",
   "metadata": {},
   "outputs": [],
   "source": []
  },
  {
   "cell_type": "markdown",
   "id": "10fca0bd",
   "metadata": {},
   "source": [
    "# CNN"
   ]
  },
  {
   "cell_type": "code",
   "execution_count": 14,
   "id": "33fb403e",
   "metadata": {},
   "outputs": [
    {
     "name": "stdout",
     "output_type": "stream",
     "text": [
      "(2, 1)\n",
      "(2, 3)\n",
      "[[0.045 0.81  0.045]\n",
      " [0.18  0.06  0.06 ]]\n"
     ]
    }
   ],
   "source": [
    "boxes = np.array([\n",
    "    [0.5, 0.5, 1.0, 1.0],   # Box 1: x, y, w, h\n",
    "    [0.2, 0.3, 0.4, 0.5]    # Box 2: x, y, w, h\n",
    "])\n",
    "\n",
    "box_confidence = np.array([\n",
    "    [0.9],  # Box 1: 90% confident there's an object\n",
    "    [0.3]   # Box 2: 30% confident there's an object\n",
    "])\n",
    "\n",
    "box_class_probs = np.array([\n",
    "    [0.05, 0.9, 0.05],  # Box 1: probabilities for [cat, dog, car]\n",
    "    [0.6, 0.2, 0.2]     # Box 2: probabilities for [cat, dog, car]\n",
    "])\n",
    "print(box_confidence.shape)\n",
    "print(box_class_probs.shape)\n",
    "print(box_confidence * box_class_probs)"
   ]
  },
  {
   "cell_type": "code",
   "execution_count": null,
   "id": "92810b80",
   "metadata": {},
   "outputs": [],
   "source": []
  }
 ],
 "metadata": {
  "kernelspec": {
   "display_name": ".venv",
   "language": "python",
   "name": "python3"
  },
  "language_info": {
   "codemirror_mode": {
    "name": "ipython",
    "version": 3
   },
   "file_extension": ".py",
   "mimetype": "text/x-python",
   "name": "python",
   "nbconvert_exporter": "python",
   "pygments_lexer": "ipython3",
   "version": "3.10.11"
  }
 },
 "nbformat": 4,
 "nbformat_minor": 5
}
